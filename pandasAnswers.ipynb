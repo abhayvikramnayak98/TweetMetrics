{
 "cells": [
  {
   "cell_type": "markdown",
   "metadata": {},
   "source": [
    "### <center>1. Data Importing & Preprocessing</center>"
   ]
  },
  {
   "cell_type": "code",
   "execution_count": null,
   "metadata": {},
   "outputs": [],
   "source": [
    "import pandas as pd\n",
    "tweets_df = pd.read_csv('tweets-engagement-metrics.csv')\n",
    "tweets_df.head(10)"
   ]
  },
  {
   "cell_type": "code",
   "execution_count": null,
   "metadata": {},
   "outputs": [],
   "source": [
    "# Columns of the dataset\n",
    "print(tweets_df.columns.to_list())"
   ]
  },
  {
   "cell_type": "code",
   "execution_count": null,
   "metadata": {},
   "outputs": [],
   "source": [
    "# Removing the unrequired columns\n",
    "tweets_df.drop(tweets_df.columns.to_list()[0], axis=1, inplace=True)\n",
    "tweets_df.head(10)"
   ]
  },
  {
   "cell_type": "code",
   "execution_count": null,
   "metadata": {},
   "outputs": [],
   "source": [
    "# Checking the null values\n",
    "tweets_df.isnull().sum()"
   ]
  },
  {
   "cell_type": "code",
   "execution_count": null,
   "metadata": {},
   "outputs": [],
   "source": [
    "# Filling the null values in the dataframe\n",
    "tweets_df.fillna('NA', axis = 1, inplace = True)\n",
    "tweets_df.head(10)"
   ]
  },
  {
   "cell_type": "code",
   "execution_count": null,
   "metadata": {},
   "outputs": [],
   "source": [
    "# Checking the duplicated values in the dataframe\n",
    "tweets_df.nunique()"
   ]
  },
  {
   "cell_type": "code",
   "execution_count": null,
   "metadata": {},
   "outputs": [],
   "source": [
    "# Datatypes of the columns in the dataframe\n",
    "tweets_df.dtypes"
   ]
  },
  {
   "cell_type": "code",
   "execution_count": null,
   "metadata": {},
   "outputs": [],
   "source": [
    "# Changing the datatypes of the columns in the dataframe\n",
    "tweets_df[['LocationID', 'Reach', 'RetweetCount', 'Likes', 'Klout']] = tweets_df[['LocationID', 'Reach', 'RetweetCount', 'Likes', 'Klout']].astype(int)\n",
    "tweets_df.head(10)"
   ]
  },
  {
   "cell_type": "code",
   "execution_count": null,
   "metadata": {},
   "outputs": [],
   "source": [
    "# Classifying the sentiment as per the values in the dataframe.\n",
    "classifySentiment = lambda x: 'Neutral' if x == 0 else ('Positive' if x > 0 else 'Negative')\n",
    "tweets_df['SentimentText'] = tweets_df['Sentiment'].apply(classifySentiment)\n",
    "tweets_df.head(10)"
   ]
  },
  {
   "cell_type": "code",
   "execution_count": null,
   "metadata": {},
   "outputs": [],
   "source": [
    "# Checking the unique languages\n",
    "print(list(tweets_df['Lang'].unique()))"
   ]
  },
  {
   "cell_type": "code",
   "execution_count": null,
   "metadata": {},
   "outputs": [],
   "source": [
    "# Getting the respective languages as per the 'Lang' codes in the dataframe\n",
    "lang_codes = {'en': 'English', 'es': 'Spanish', '_u': 'Undetermined', 'pt': 'Portuguese', 'in': 'Indonesian', 'it': 'Italian', 'fr': 'French', 'ro': 'Romanian', 'da': 'Danish', 'zh': 'Chinese', 'ko': 'Korean', 'tl': 'Tagalog', 'de': 'German', 'ja': 'Japanese', 'ru': 'Russian', 'nl': 'Dutch', 'hu': 'Hungarian', 'cy': 'Welsh', 'km': 'Khmer', 'ar': 'Arabic', 'cs': 'Czech', 'ht': 'Haitian Creole', 'fi': 'Finnish', 'et': 'Estonian', 'no': 'Norwegian', 'pl': 'Polish', 'eu': 'Basque', 'lv': 'Latvian', 'sv': 'Swedish', 'tr': 'Turkish', 'hi': 'Hindi', 'iw': 'Hebrew', 'lt': 'Lithuanian', 'sl': 'Slovenian', 'uk': 'Ukrainian', 'th': 'Thai'}\n",
    "tweets_df['Language'] = tweets_df['Lang'].map(lang_codes)\n",
    "tweets_df.head(10)"
   ]
  },
  {
   "cell_type": "code",
   "execution_count": null,
   "metadata": {},
   "outputs": [],
   "source": [
    "# Removing the 'Lang' & 'Sentiment' columns\n",
    "tweets_df.drop(['Lang', 'Sentiment'], axis=1, inplace=True)\n",
    "tweets_df.head(10)"
   ]
  },
  {
   "cell_type": "code",
   "execution_count": null,
   "metadata": {},
   "outputs": [],
   "source": [
    "# Moving the text column to the right place\n",
    "tweets_df = tweets_df[[col for col in tweets_df.columns if col != 'text'] + ['text']]\n",
    "tweets_df.head(10)"
   ]
  },
  {
   "cell_type": "code",
   "execution_count": null,
   "metadata": {},
   "outputs": [],
   "source": [
    "# Renaming the 'SentimentText' column to 'Sentiment' and 'Language' to 'Lang'\n",
    "tweets_df = tweets_df.rename(columns={'IsReshare':'IsReshared', 'SentimentText': 'Sentiment', 'Language': 'Lang'})\n",
    "tweets_df.head(10)"
   ]
  },
  {
   "cell_type": "markdown",
   "metadata": {},
   "source": [
    "### <center>2. Data Querying</center>"
   ]
  },
  {
   "cell_type": "code",
   "execution_count": null,
   "metadata": {},
   "outputs": [],
   "source": [
    "# Q-1. Retrieve the total number of tweets in the dataset.\n",
    "print(f\"The no. of tweets in the dataset = {len(tweets_df)}.\")"
   ]
  },
  {
   "cell_type": "code",
   "execution_count": null,
   "metadata": {},
   "outputs": [],
   "source": [
    "# Q-2. Find the number of distinct users (UserID) in the dataset.\n",
    "print(f\"The number of distinct users in the dataset = {tweets_df['UserID'].nunique()}.\")"
   ]
  },
  {
   "cell_type": "code",
   "execution_count": null,
   "metadata": {},
   "outputs": [],
   "source": [
    "# Q-3. Calculate the average number of likes per tweet.\n",
    "print(f\"The average number of likes per tweet = {round(tweets_df['Likes'].mean(), 3)}.\")"
   ]
  },
  {
   "cell_type": "code",
   "execution_count": null,
   "metadata": {},
   "outputs": [],
   "source": [
    "# Q-4. Identify tweets where the sentiment is 'Positive.' Display the TweetID and sentiment.\n",
    "positive_tweets_df = tweets_df[tweets_df['Sentiment'] == 'Positive'][['TweetID', 'Sentiment']]\n",
    "positive_tweets_df"
   ]
  },
  {
   "cell_type": "code",
   "execution_count": null,
   "metadata": {},
   "outputs": [],
   "source": [
    "# Q-5. Count the number of tweets where IsReshare is true (1).\n",
    "print(f\"The number of tweets being reshared = {len(tweets_df[tweets_df['IsReshared'] == 1])}.\")"
   ]
  },
  {
   "cell_type": "code",
   "execution_count": null,
   "metadata": {},
   "outputs": [],
   "source": [
    "# Q-6. List the top 5 users with the highest Reach. Display their UserID and Reach.\n",
    "top_users_reach = tweets_df.nlargest(5, 'Reach')[['UserID', 'Reach']]\n",
    "top_users_reach"
   ]
  },
  {
   "cell_type": "code",
   "execution_count": null,
   "metadata": {},
   "outputs": [],
   "source": [
    "# Q-7. Find the most common language (Lang) used in tweets.\n",
    "print(f\"The most common language used in tweets = {tweets_df['Lang'].mode()[0]}.\")"
   ]
  },
  {
   "cell_type": "code",
   "execution_count": null,
   "metadata": {},
   "outputs": [],
   "source": [
    "# Q-8. Determine the average Klout score for male (Gender = 'Male') users.\n",
    "print(f\"The average Klout score for male users = {round(tweets_df[tweets_df['Gender'] == 'Male']['Klout'].mean(), 3)}.\")"
   ]
  },
  {
   "cell_type": "code",
   "execution_count": null,
   "metadata": {},
   "outputs": [],
   "source": [
    "# Q-9. Retrieve tweets posted on weekdays (Monday to Friday).\n",
    "weekdays = ['Monday', 'Tuesday', 'Wednesday', 'Thursday', 'Friday']\n",
    "weekday_tweets = tweets_df[tweets_df['Weekday'].isin(weekdays)]\n",
    "weekday_tweets.head(10)"
   ]
  },
  {
   "cell_type": "code",
   "execution_count": null,
   "metadata": {},
   "outputs": [],
   "source": [
    "# Q-10. Identify tweets with a Klout score greater than 50. Display the TweetID and Klout.\n",
    "kloutScore50 = tweets_df[tweets_df['Klout'] > 50][['TweetID', 'Klout']]\n",
    "kloutScore50.head(10)"
   ]
  },
  {
   "cell_type": "code",
   "execution_count": null,
   "metadata": {},
   "outputs": [],
   "source": [
    "# Q-11. Count the number of tweets posted from the United States (Country = 'United States').\n",
    "print(f\"The no. of tweets from the United States = {len(tweets_df[tweets_df['Country'] == 'United States'])}.\")"
   ]
  },
  {
   "cell_type": "code",
   "execution_count": null,
   "metadata": {},
   "outputs": [],
   "source": [
    "# Q-12. List tweets with the highest number of retweets. Display the TweetID and RetweetCount.\n",
    "retweet_count = tweets_df.nlargest(1, 'RetweetCount')[['TweetID', 'RetweetCount']]\n",
    "retweet_count"
   ]
  },
  {
   "cell_type": "code",
   "execution_count": null,
   "metadata": {},
   "outputs": [],
   "source": [
    "# Q-13. Find tweets with sentiment 'Negative' and Klout score less than 40.\n",
    "negative_tweets_df = tweets_df[(tweets_df['Sentiment'] == 'Negative') & (tweets_df['Klout'] < 40)]\n",
    "negative_tweets_df.head()"
   ]
  },
  {
   "cell_type": "code",
   "execution_count": null,
   "metadata": {},
   "outputs": [],
   "source": [
    "# Q-14. Calculate the average Likes for tweets posted on weekends (Saturday and Sunday).\n",
    "print(f\"The average likes for tweets posted on weekends = {round(tweets_df[tweets_df['Weekday'].isin(['Saturday', 'Sunday'])]['Likes'].mean(), 3)}.\")"
   ]
  },
  {
   "cell_type": "code",
   "execution_count": null,
   "metadata": {},
   "outputs": [],
   "source": [
    "# Q-15. Retrieve tweets posted in the city of 'New York.'\n",
    "new_york_tweets = tweets_df[tweets_df['City'].str.contains('New York')]\n",
    "new_york_tweets.head(10)"
   ]
  },
  {
   "cell_type": "code",
   "execution_count": null,
   "metadata": {},
   "outputs": [],
   "source": [
    "# Q-16. Identify tweets where Reach is greater than 1000. Display the TweetID and Reach.\n",
    "thousand_reach = tweets_df[tweets_df['Reach'] > 1000][['TweetID', 'Reach']]\n",
    "thousand_reach.head()"
   ]
  },
  {
   "cell_type": "code",
   "execution_count": null,
   "metadata": {},
   "outputs": [],
   "source": []
  }
 ],
 "metadata": {
  "kernelspec": {
   "display_name": "Python 3",
   "language": "python",
   "name": "python3"
  },
  "language_info": {
   "codemirror_mode": {
    "name": "ipython",
    "version": 3
   },
   "file_extension": ".py",
   "mimetype": "text/x-python",
   "name": "python",
   "nbconvert_exporter": "python",
   "pygments_lexer": "ipython3",
   "version": "3.11.4"
  }
 },
 "nbformat": 4,
 "nbformat_minor": 2
}
